{
  "nbformat": 4,
  "nbformat_minor": 0,
  "metadata": {
    "colab": {
      "name": "MiguelAngelSotoCollada_Seminario.ipynb",
      "version": "0.3.2",
      "provenance": [],
      "collapsed_sections": [],
      "include_colab_link": true
    },
    "kernelspec": {
      "name": "python3",
      "display_name": "Python 3"
    }
  },
  "cells": [
    {
      "cell_type": "markdown",
      "metadata": {
        "id": "view-in-github",
        "colab_type": "text"
      },
      "source": [
        "<a href=\"https://colab.research.google.com/github/mcollada/03MAIR-Algoritmos-de-optimizacion/blob/master/Seminario/MiguelAngelSotoCollada_Seminario.ipynb\" target=\"_parent\"><img src=\"https://colab.research.google.com/assets/colab-badge.svg\" alt=\"Open In Colab\"/></a>"
      ]
    },
    {
      "metadata": {
        "id": "hVbXYX-RfPWh",
        "colab_type": "text"
      },
      "cell_type": "markdown",
      "source": [
        "# Algoritmos de optimización - Seminario<br>\n",
        "Nombre y Apellidos:  Miguel Angel Soto Collada <br>\n",
        "Url: https://github.com/mcollada/03MAIR-Algoritmos-de-optimizacion/blob/master/Seminario/MiguelAngelSotoCollada_Seminario.ipynb<br>\n",
        "\n",
        "Problema:\n",
        "> 1. Elección de grupos de población homogéneos <br>\n",
        "\n",
        "\n",
        "Descripción del problema:(copiar enunciado)\n",
        "\n",
        "\n",
        "Problema Elección de grupos de población homogéneos:\n",
        "\n",
        "• Una productora ganadera nos encarga la tarea de seleccionar grupos de terneros para aplicar 3 tratamientos diferentes. Para cada uno de los\n",
        "tratamientos debemos seleccionar 3 grupos de terneros que sean lo mas homogéneos posible en peso para que en los resultados del tratamiento influya lo menos posible el peso del animal. Disponemos de una población de N animales entre machos y hembras\n",
        "\n",
        "• Se solicita diseñar un algoritmo para conseguir una agrupación que cumpla de la mejor manera posible las especificaciones de la productora.\n",
        "\n",
        "• Aun se desconocen los datos concretos de los animales por lo que debemos trabajar con datos que debemos generar de forma aleatoria.\n",
        "\n",
        "• Hemos podido averigua que el peso medio del ternero es 37kg con una\n",
        "desviación estándar de 2.1\n",
        "\n",
        "Nos proporcionan la siguiente plantilla de los datos:\n",
        "\n",
        "<TABLE>\n",
        "  <TR>\n",
        "  <TH>Id</TH>\n",
        "  <TH>Peso</TH>\n",
        "  <TH>Sexo</TH>\n",
        "  </TR>\n",
        "  <TR>    \n",
        "  <TD>1</TD>\n",
        "  <TD>38.7</TD>\n",
        "  <TD>M</TD>\n",
        "  </TR>    \n",
        "  <TR>    \n",
        "  <TD>2</TD>\n",
        "  <TD>37.1</TD>\n",
        "  <TD>H</TD>\n",
        "  </TR>    \n",
        "  <TR>    \n",
        "  <TD>3</TD>\n",
        "  <TD>39.2</TD>\n",
        "  <TD>M</TD>\n",
        "  </TR>    \n",
        "</TABLE>\n",
        "\n",
        "\n",
        "\n",
        "\n",
        "\n",
        "\n",
        "(*) La respuesta es obligatoria\n",
        "\n",
        "\n",
        "\n",
        "\n",
        "\n",
        "                                        "
      ]
    },
    {
      "metadata": {
        "id": "G8Y8XaEO62gF",
        "colab_type": "code",
        "colab": {}
      },
      "cell_type": "code",
      "source": [
        ""
      ],
      "execution_count": 0,
      "outputs": []
    },
    {
      "metadata": {
        "id": "3_-exlrTgLd-",
        "colab_type": "text"
      },
      "cell_type": "markdown",
      "source": [
        "(*)¿Cuantas posibilidades hay sin tener en cuenta las restricciones?<br>\n",
        "\n",
        "\n",
        "\n",
        "¿Cuantas posibilidades hay teniendo en cuenta todas las restricciones.\n",
        "\n",
        "\n"
      ]
    },
    {
      "metadata": {
        "id": "PV-kFxuOdWlg",
        "colab_type": "text"
      },
      "cell_type": "markdown",
      "source": [
        ""
      ]
    },
    {
      "metadata": {
        "id": "WfCUqJyKhPcw",
        "colab_type": "text"
      },
      "cell_type": "markdown",
      "source": [
        "Respuesta:\n",
        "\n",
        "Sin tener en cuenta las restricciones y por lo tanto agrupando todos los terneros en los 9 grupos creo que sería combinaciones de N (tamaño de la población elegido) elementos tomados de N/9 en N/9.\n"
      ]
    },
    {
      "metadata": {
        "id": "iq6Fe32MgpDX",
        "colab_type": "code",
        "colab": {}
      },
      "cell_type": "code",
      "source": [
        ""
      ],
      "execution_count": 0,
      "outputs": []
    },
    {
      "metadata": {
        "id": "dzynfVJahHoY",
        "colab_type": "text"
      },
      "cell_type": "markdown",
      "source": [
        "Modelo para el espacio de soluciones<br>\n",
        "(*) ¿Cual es la estructura de datos que mejor se adapta al problema? Argumentalo.(Es posible que hayas elegido una al principio y veas la necesidad de cambiar, arguentalo)\n"
      ]
    },
    {
      "metadata": {
        "id": "xFIJrOwKi2Ti",
        "colab_type": "text"
      },
      "cell_type": "markdown",
      "source": [
        "Respuesta:\n",
        "\n",
        "Almacenamos los terneros en un dataframe de inicio (df) de python y en el mismo guardamos los siguientes datos: \n",
        "  - id: para poder identificar al ternero en este caso usamos el id de la fila del dataframe, si más adelante \n",
        "    fuera necesario crear otro tipo de identificador con alguna etiqueta de código de barras que identificara de \n",
        "    forma única al ternero lo único que tendríamos que hacer es crear una columna más con ese dato.\n",
        "  - Peso: almacena el peso del termero en kg\n",
        "  - Sexo: Sexo del ternero (H: Hembra, M: Macho)\n",
        "\n",
        "Las estructuras de datos que van a almacenar las mejores clasificaciones de terneros para cada uno de los \n",
        "tratamientos y grupos las almacenamos en dataframes independientes con la misma estructura de datos que el original \n",
        "(entiendo que en la vida real además debería llevar un identificador único con la etiqueta del ternero, pero para el \n",
        "estudio del problema actual no es necesario y unicamente supondría añadir esa columna en el dataframe original y ya \n",
        "se iría teniendo en todos los demás dataframes de salida al ir asignandole los datos del dataframe original):\n",
        "  \n",
        "    df_Tratamiento1_Machos_G1\n",
        "    df_Tratamiento1_Hembras_G2\n",
        "    df_Tratamiento1_Machos_G3\n",
        "    \n",
        "    df_Tratamiento2_Machos_G1\n",
        "    df_Tratamiento2_Hembras_G2\n",
        "    df_Tratamiento2_Machos_G3\n",
        "    \n",
        "    df_Tratamiento3_Machos_G1\n",
        "    df_Tratamiento3_Hembras_G2\n",
        "    df_Tratamiento3_Machos_G3\n",
        "\n"
      ]
    },
    {
      "metadata": {
        "id": "7Z9U2W7bi-XS",
        "colab_type": "text"
      },
      "cell_type": "markdown",
      "source": [
        "Según el modelo para el espacio de soluciones<br>\n",
        "(*)¿Cual es la función objetivo?\n",
        "\n",
        "(*)¿Es un problema de maximización o minimización?"
      ]
    },
    {
      "metadata": {
        "id": "hBalWLM7j1_d",
        "colab_type": "text"
      },
      "cell_type": "markdown",
      "source": [
        "Respuesta:\n",
        "\n",
        "- La función objetivo que he elegido ha sido que el peso del ternero no se desvíe del peso medio del grupo que estamos tratando (valor dado por el enunciado) en + - 0,25kg. Para elegir ese valor me he centrado en que la media de peso del grupo 1 de los machos se pide que sea lo más aproximada a 38.7 kg y de los machos del grupo 3 sea lo más aproximada a 39.2kg de tal forma que hay una distancia de 0.5 kg entre esos 2 grupos de machos entonces para clasificar grupos homogéneos me centro  en los terneros cuyo peso esta en la media del grupo que estemos clasificando + - 0.25:\n",
        "\n",
        "   Media_Grupo - 0.25 <= peso_del_ternero <= Media_Grupo + 0.25\n",
        "   \n",
        "  \n",
        "- Lo he abordado como un problema de mínizar las diferencias en peso para cada uno de los tratamientos y grupos, como indíca el enunciado lo más homogenéos posible en peso.\n"
      ]
    },
    {
      "metadata": {
        "id": "pDA-rg3Gj5Lz",
        "colab_type": "code",
        "colab": {}
      },
      "cell_type": "code",
      "source": [
        ""
      ],
      "execution_count": 0,
      "outputs": []
    },
    {
      "metadata": {
        "id": "rlnTYgY1j6I2",
        "colab_type": "text"
      },
      "cell_type": "markdown",
      "source": [
        "Diseña un algoritmo para resolver el problema por fuerza bruta"
      ]
    },
    {
      "metadata": {
        "id": "70rDgxYXkC8r",
        "colab_type": "text"
      },
      "cell_type": "markdown",
      "source": [
        "Respuesta"
      ]
    },
    {
      "metadata": {
        "id": "CJb5sQ0qkENy",
        "colab_type": "code",
        "colab": {}
      },
      "cell_type": "code",
      "source": [
        "# import y funciones generales que voy a usar a  lo largo del programa\n",
        "import random\n",
        "import pandas as pd\n",
        "import numpy as np\n",
        "from scipy import stats\n",
        "import pdb\n",
        "import math\n",
        "from time import time\n",
        "\n",
        "\n",
        "#Función para calcular el tiempo de ejecución\n",
        "def calcular_tiempo(f):\n",
        "    def wrapper(*args,**kwargs):\n",
        "        inicio = time()       \n",
        "        resultado = f(*args,**kwargs)       \n",
        "        tiempo = time() - inicio\n",
        "        print(\"\\r\\nTiempo de ejecución para algoritmo: \"+\"{0:.25f}\".format(tiempo))\n",
        "        return resultado\n",
        "    return wrapper\n",
        "\n",
        "# Función para chequear los datos que se vayan generando        \n",
        "def ChequearDatosGenerados(df, titulo):\n",
        "    print('------------------ Chequeo Datos -------------------')\n",
        "    print('Dataframe: ' +titulo )\n",
        "    print('Media: ' + str(np.mean(df[0:])))\n",
        "    print('Desviación: '+ str(np.std(df[1:])))\n",
        "    print('Número individuos grupo: '+ str(df.shape[0]))\n",
        "    print('----------------------------------------------------')\n",
        "    \n",
        "    \n"
      ],
      "execution_count": 0,
      "outputs": []
    },
    {
      "metadata": {
        "id": "xo1E6aCACMme",
        "colab_type": "code",
        "colab": {}
      },
      "cell_type": "code",
      "source": [
        "# FUERZA BRUTA\n",
        "def Clasificacion_Fuerza_Bruta (df,sexo, pesoMedioPedido, desviacionPermitidaGrupo):\n",
        "    dfSeleccionados=pd.DataFrame(columns=('peso', 'sexo'))\n",
        "    for i in range(df.shape[0]) :\n",
        "        if df.loc[i,'sexo']==sexo and df.loc[i,'peso'] >= pesoMedioPedido - desviacionPermitidaGrupo and df.loc[i,'peso'] <= pesoMedioPedido + desviacionPermitidaGrupo :\n",
        "            dfSeleccionados.loc[dfSeleccionados.shape[0]]=df.loc[i,:].tolist()\n",
        "      \n",
        "    \n",
        "    return dfSeleccionados\n",
        " \n",
        "\n",
        "@calcular_tiempo\n",
        "def Lanzadera_Algoritmo_Fuerza_Bruta():\n",
        "    \n",
        "    # Realizar 3 llamadas al algoritmo de Clasificacion_Fuerza_Bruta para cada uno de los grupos pedidos\n",
        "    dfSeleccionados_Machos_G1=Clasificacion_Fuerza_Bruta(df,'M',38.7,desviacionStandarPermitidaEnGrupo)\n",
        "    dfSeleccionados_Hembras_G2=Clasificacion_Fuerza_Bruta(df,'H',37.1,desviacionStandarPermitidaEnGrupo)\n",
        "    dfSeleccionados_Machos_G3=Clasificacion_Fuerza_Bruta(df,'M',39.2,desviacionStandarPermitidaEnGrupo)\n",
        "    \n",
        "    # Dividimos los machos seleccionados del grupo 1 para los 3 tratamientos\n",
        "    df_Tratamiento1_Machos_G1=dfSeleccionados_Machos_G1.loc[:dfSeleccionados_Machos_G1.shape[0]/3-1, :]\n",
        "    df_Tratamiento2_Machos_G1=dfSeleccionados_Machos_G1.loc[dfSeleccionados_Machos_G1.shape[0]/3:2*dfSeleccionados_Machos_G1.shape[0]/3-1, :]\n",
        "    df_Tratamiento3_Machos_G1=dfSeleccionados_Machos_G1.loc[2*dfSeleccionados_Machos_G1.shape[0]/3:, :]\n",
        "\n",
        "\n",
        "    # Dividimos las hembras seleccionadas del grupo 2 para los 3 tratamientos\n",
        "    df_Tratamiento1_Hembras_G2=dfSeleccionados_Hembras_G2.loc[:dfSeleccionados_Hembras_G2.shape[0]/3-1, :]\n",
        "    df_Tratamiento2_Hembras_G2=dfSeleccionados_Hembras_G2.loc[dfSeleccionados_Hembras_G2.shape[0]/3:2*dfSeleccionados_Hembras_G2.shape[0]/3-1, :]\n",
        "    df_Tratamiento3_Hembras_G2=dfSeleccionados_Hembras_G2.loc[2*dfSeleccionados_Hembras_G2.shape[0]/3:, :]\n",
        "\n",
        "\n",
        "    # Dividimos los machos seleccionados del grupo 3 para los 3 tratamientos\n",
        "    df_Tratamiento1_Machos_G3=dfSeleccionados_Machos_G3.loc[:dfSeleccionados_Machos_G3.shape[0]/3-1, :]\n",
        "    df_Tratamiento2_Machos_G3=dfSeleccionados_Machos_G3.loc[dfSeleccionados_Machos_G3.shape[0]/3:2*dfSeleccionados_Machos_G3.shape[0]/3-1, :]\n",
        "    df_Tratamiento3_Machos_G3=dfSeleccionados_Machos_G3.loc[2*dfSeleccionados_Machos_G3.shape[0]/3:, :]\n",
        "    \n",
        "    # Chequeamos datos iniciales y generados\n",
        "    ChequearDatosGenerados(df, 'Datos originales generados')\n",
        "    ChequearDatosGenerados(df_Tratamiento1_Machos_G1, 'Datos Tratamiento 1 Machos Grupo 1')\n",
        "    ChequearDatosGenerados(df_Tratamiento2_Machos_G1, 'Datos Tratamiento 2 Machos Grupo 1')\n",
        "    ChequearDatosGenerados(df_Tratamiento3_Machos_G1, 'Datos Tratamiento 3 Machos Grupo 1')\n",
        "    ChequearDatosGenerados(df_Tratamiento1_Hembras_G2,'Datos Tratamiento 1 Hembras Grupo 2')\n",
        "    ChequearDatosGenerados(df_Tratamiento2_Hembras_G2,'Datos Tratamiento 2 Hembras Grupo 2')\n",
        "    ChequearDatosGenerados(df_Tratamiento3_Hembras_G2,'Datos Tratamiento 3 Hembras Grupo 2')\n",
        "    ChequearDatosGenerados(df_Tratamiento1_Machos_G3, 'Datos Tratamiento 1 Machos Grupo 3')\n",
        "    ChequearDatosGenerados(df_Tratamiento2_Machos_G3, 'Datos Tratamiento 2 Machos Grupo 3')\n",
        "    ChequearDatosGenerados(df_Tratamiento3_Machos_G3, 'Datos Tratamiento 3 Machos Grupo 3')\n",
        "    \n",
        "  "
      ],
      "execution_count": 0,
      "outputs": []
    },
    {
      "metadata": {
        "id": "tgrnsC2nkFa8",
        "colab_type": "text"
      },
      "cell_type": "markdown",
      "source": [
        "Calcula la complejidad del algoritmo por fuerza bruta"
      ]
    },
    {
      "metadata": {
        "id": "9eUd3xwckP68",
        "colab_type": "text"
      },
      "cell_type": "markdown",
      "source": [
        "Respuesta:\n",
        "\n",
        "El orden de complejidad es 3n ya que recorremos la lista entera para \n",
        "clasificar dada uno de los grupos pedidos (no la recorremos 9 veces porque después cada uno de los dataframes obtenidos lo divido en tres partes para cada uno de los tratamientos de esa forma obtengo los 9 grupos):\n",
        "\n",
        "dfSeleccionados_Machos_G1=Clasificacion_Fuerza_Bruta(df,'M',38.7,desviacionStandarPermitidaEnGrupo)\n",
        "    dfSeleccionados_Hembras_G2=Clasificacion_Fuerza_Bruta(df,'H',37.1,desviacionStandarPermitidaEnGrupo)\n",
        "    dfSeleccionados_Machos_G3=Clasificacion_Fuerza_Bruta(df,'M',39.2,desviacionStandarPermitidaEnGrupo)"
      ]
    },
    {
      "metadata": {
        "id": "rvZWwL-ckRST",
        "colab_type": "code",
        "colab": {}
      },
      "cell_type": "code",
      "source": [
        ""
      ],
      "execution_count": 0,
      "outputs": []
    },
    {
      "metadata": {
        "id": "txbrmLmskReM",
        "colab_type": "text"
      },
      "cell_type": "markdown",
      "source": [
        "(*)Diseña un algoritmo que mejore la complejidad del algortimo por fuerza bruta. Argumenta porque crees que mejora el algoritmo por fuerza bruta"
      ]
    },
    {
      "metadata": {
        "id": "hLrVwt5QkZPD",
        "colab_type": "text"
      },
      "cell_type": "markdown",
      "source": [
        "*Respuest*a\n",
        "\n",
        "La mejora respecto a fuerza bruta es porque tenemos que recorrer la lista entera una únicamente vez en lugar de 3 veces que lo haríamos con fuerza bruta y de esa forma ya obtenemos la clasificación completa pedida de los grupos. \n",
        "\n",
        "Nota: Como la población es pequeña la mejora en tiempos no se aprecia bien pero en pruebas que he realizado con 1.000.000 de terneros en fuerza bruta nos vamos a 831.85 segundos aproximadamente (13.85  minutos) y en cambio con técnica voraz 688.22 (11.47 minutos) no sé si esta prueba es demasiado fiable porque mi equpo no es nada del otro mundo, pero bueno ya que la he hecho la aporto. "
      ]
    },
    {
      "metadata": {
        "id": "m1eyM21Vkabg",
        "colab_type": "code",
        "colab": {}
      },
      "cell_type": "code",
      "source": [
        "#### Resolución por Técnica Voraz ####\n",
        "\n",
        "def Clasificacion_Tecnica_Voraz (df,desviacionPermitidaGrupo):\n",
        "    dfSeleccionados_Machos_G1=pd.DataFrame(columns=('peso', 'sexo'))\n",
        "    dfSeleccionados_Hembras_G2=pd.DataFrame(columns=('peso', 'sexo'))\n",
        "    dfSeleccionados_Machos_G3=pd.DataFrame(columns=('peso', 'sexo'))\n",
        "    for i in range(df.shape[0]) :\n",
        "        sexo_ternero=df.loc[i,'sexo']\n",
        "        peso_ternero=df.loc[i,'peso']\n",
        "        \n",
        "        if sexo_ternero =='M': \n",
        "            if peso_ternero >= 38.7 - desviacionPermitidaGrupo and peso_ternero <= 38.7 + desviacionPermitidaGrupo :\n",
        "                dfSeleccionados_Machos_G1.loc[dfSeleccionados_Machos_G1.shape[0]]=df.loc[i,:].tolist()\n",
        "            elif peso_ternero >= 39.2 - desviacionPermitidaGrupo and peso_ternero <= 39.2 + desviacionPermitidaGrupo :\n",
        "                dfSeleccionados_Machos_G3.loc[dfSeleccionados_Machos_G3.shape[0]]=df.loc[i,:].tolist()\n",
        "                \n",
        "        elif sexo_ternero=='H' and peso_ternero >= 37.1 - desviacionPermitidaGrupo and peso_ternero <= 37.1 + desviacionPermitidaGrupo :            \n",
        "            dfSeleccionados_Hembras_G2.loc[dfSeleccionados_Hembras_G2.shape[0]]=df.loc[i,:].tolist()\n",
        "        \n",
        "    \n",
        "    return dfSeleccionados_Machos_G1,dfSeleccionados_Hembras_G2,dfSeleccionados_Machos_G3\n",
        "\n",
        "\n",
        "\n",
        "@calcular_tiempo\n",
        "def Lanzadera_Algoritmo_Tecnica_Voraz():\n",
        "  \n",
        "    # Realizar 1 llamada al algoritmo de Clasificacion_Tecnica_Voraz \n",
        "    dfSeleccionados_Machos_G1,dfSeleccionados_Hembras_G2,dfSeleccionados_Machos_G3=Clasificacion_Tecnica_Voraz(df,desviacionStandarPermitidaEnGrupo)\n",
        "     \n",
        "    # Dividimos los machos seleccionados del grupo 1 para los 3 tratamientos\n",
        "    df_Tratamiento1_Machos_G1=dfSeleccionados_Machos_G1.loc[:dfSeleccionados_Machos_G1.shape[0]/3-1, :]\n",
        "    df_Tratamiento2_Machos_G1=dfSeleccionados_Machos_G1.loc[dfSeleccionados_Machos_G1.shape[0]/3:2*dfSeleccionados_Machos_G1.shape[0]/3-1, :]\n",
        "    df_Tratamiento3_Machos_G1=dfSeleccionados_Machos_G1.loc[2*dfSeleccionados_Machos_G1.shape[0]/3:, :]\n",
        "\n",
        "\n",
        "    # Dividimos las hembras seleccionadas del grupo 2 para los 3 tratamientos\n",
        "    df_Tratamiento1_Hembras_G2=dfSeleccionados_Hembras_G2.loc[:dfSeleccionados_Hembras_G2.shape[0]/3-1, :]\n",
        "    df_Tratamiento2_Hembras_G2=dfSeleccionados_Hembras_G2.loc[dfSeleccionados_Hembras_G2.shape[0]/3:2*dfSeleccionados_Hembras_G2.shape[0]/3-1, :]\n",
        "    df_Tratamiento3_Hembras_G2=dfSeleccionados_Hembras_G2.loc[2*dfSeleccionados_Hembras_G2.shape[0]/3:, :]\n",
        "\n",
        "    \n",
        "    # Dividimos los machos seleccionados del grupo 3 para los 3 tratamientos\n",
        "    df_Tratamiento1_Machos_G3=dfSeleccionados_Machos_G3.loc[:dfSeleccionados_Machos_G3.shape[0]/3-1, :]\n",
        "    df_Tratamiento2_Machos_G3=dfSeleccionados_Machos_G3.loc[dfSeleccionados_Machos_G3.shape[0]/3:2*dfSeleccionados_Machos_G3.shape[0]/3-1, :]\n",
        "    df_Tratamiento3_Machos_G3=dfSeleccionados_Machos_G3.loc[2*dfSeleccionados_Machos_G3.shape[0]/3:, :]\n",
        "\n",
        "     # Chequeamos datos iniciales y generados\n",
        "    ChequearDatosGenerados(df, 'Datos originales generados')\n",
        "    ChequearDatosGenerados(df_Tratamiento1_Machos_G1, 'Datos Tratamiento 1 Machos Grupo 1')\n",
        "    ChequearDatosGenerados(df_Tratamiento2_Machos_G1, 'Datos Tratamiento 2 Machos Grupo 1')\n",
        "    ChequearDatosGenerados(df_Tratamiento3_Machos_G1, 'Datos Tratamiento 3 Machos Grupo 1')\n",
        "    ChequearDatosGenerados(df_Tratamiento1_Hembras_G2,'Datos Tratamiento 1 Hembras Grupo 2')\n",
        "    ChequearDatosGenerados(df_Tratamiento2_Hembras_G2,'Datos Tratamiento 2 Hembras Grupo 2')\n",
        "    ChequearDatosGenerados(df_Tratamiento3_Hembras_G2,'Datos Tratamiento 3 Hembras Grupo 2')\n",
        "    ChequearDatosGenerados(df_Tratamiento1_Machos_G3, 'Datos Tratamiento 1 Machos Grupo 3')\n",
        "    ChequearDatosGenerados(df_Tratamiento2_Machos_G3, 'Datos Tratamiento 2 Machos Grupo 3')\n",
        "    ChequearDatosGenerados(df_Tratamiento3_Machos_G3, 'Datos Tratamiento 3 Machos Grupo 3')\n",
        "    \n"
      ],
      "execution_count": 0,
      "outputs": []
    },
    {
      "metadata": {
        "id": "eGDB4K6uk1iN",
        "colab_type": "text"
      },
      "cell_type": "markdown",
      "source": [
        "(*)Calcula la complejidad del algoritmo "
      ]
    },
    {
      "metadata": {
        "id": "NhpTh_BPk1ms",
        "colab_type": "text"
      },
      "cell_type": "markdown",
      "source": [
        "Respuesta:\n",
        "\n",
        "El orden de complejidad del algoritmo con técnica voraz que se ha obtenido es n, ya que recorremos la lista entera una única vez para clasificar todos los grupos pedidos."
      ]
    },
    {
      "metadata": {
        "id": "nREzhkStlCq8",
        "colab_type": "code",
        "colab": {}
      },
      "cell_type": "code",
      "source": [
        ""
      ],
      "execution_count": 0,
      "outputs": []
    },
    {
      "metadata": {
        "id": "3M6QjTsSkmYe",
        "colab_type": "text"
      },
      "cell_type": "markdown",
      "source": [
        "Según el problema (y tenga sentido), diseña un juego de datos de entrada aleatorios"
      ]
    },
    {
      "metadata": {
        "id": "Jc3_OlyNkvjZ",
        "colab_type": "text"
      },
      "cell_type": "markdown",
      "source": [
        "Respuesta\n",
        "\n",
        "Obtengo la población de terneros del tamaño pasado como parametro a la función, para generar los datos uso una función aleatoria que genera datos según una distribución normal con media y desviación indicadas, de esta forma podemos generar los datos como se han pedido media 37kg y desviación 2,1kg"
      ]
    },
    {
      "metadata": {
        "id": "sJ-N2etjkyWc",
        "colab_type": "code",
        "outputId": "0fb4db61-7668-489e-c549-ebde2dc93f23",
        "colab": {
          "base_uri": "https://localhost:8080/",
          "height": 153
        }
      },
      "cell_type": "code",
      "source": [
        "# Obtener población de terneros del tamaño pasado como parametro, para generar\n",
        "# los datos usamos una función aleatoria que genera datos según una distribución\n",
        "# normal con media y desviación indicadas, de esta forma podemos generar los datos\n",
        "# como se han pedido media 37kg y desviación 2,1kg\n",
        "def ObtenerPoblacionTerneros(tamanioPoblacion,media,desviacionStandar):\n",
        "    df=pd.DataFrame(columns=('peso', 'sexo'))\n",
        "    df['peso']=[np.random.normal(media, desviacionStandar, 1) for x in range(tamanioPoblacion)]\n",
        "    df['sexo']=[random.randint(0,1) for x in range(tamanioPoblacion) ]\n",
        "    df['sexo'] = np.where(df['sexo'], 'M', 'H')\n",
        "\n",
        "    return df\n",
        "    \n",
        "# Inicializamos valores a los valores indicados en el problema y asignamos también el tamaño de la población\n",
        "N=1000\n",
        "media=37\n",
        "desviacionStandarPoblacion=2.1\n",
        "\n",
        "# A la desviacionStandarPermitidaEnGrupo le asigno el valor de 0.25kg ya que \n",
        "# la media del grupo 1 de los machos se pide que sea lo más aproximada a 38.7 \n",
        "# y de los machos del grupo 3 39.2 de tal forma que hay una distancia de 0.5 kg\n",
        "# entre esos 2 grupos de machos entonces para clasificar grupos homogeneos en peso me centro \n",
        "# en los terneros cuyo peso esta en la media del grupo que estemos clasificando +-0.25\n",
        "desviacionStandarPermitidaEnGrupo=0.25\n",
        "\n",
        "    \n",
        "# Obtener población de terneros del tamaño pasado como parametro, para generar\n",
        "# los datos usamos una función aleatoria que genera datos según una distribución\n",
        "# normal con media y desviación indicadas\n",
        "df=ObtenerPoblacionTerneros(N, media,desviacionStandarPoblacion)\n",
        "\n",
        "# chequeamos los datos iniciales generados para ver si cumplen los criterios \n",
        "# de la media y la desviación que se piden en el problema\n",
        "ChequearDatosGenerados(df, 'Datos originales generados ')\n"
      ],
      "execution_count": 4,
      "outputs": [
        {
          "output_type": "stream",
          "text": [
            "------------------ Chequeo Datos -------------------\n",
            "Dataframe: Datos originales generados \n",
            "Media: peso    37.011461\n",
            "Name: 0, dtype: float64\n",
            "Desviación: peso    2.081898\n",
            "dtype: float64\n",
            "Número individuos grupo: 1000\n",
            "----------------------------------------------------\n"
          ],
          "name": "stdout"
        }
      ]
    },
    {
      "metadata": {
        "id": "zy5ZROmjlGo1",
        "colab_type": "text"
      },
      "cell_type": "markdown",
      "source": [
        "Aplica el algoritmo al juego de datos generado"
      ]
    },
    {
      "metadata": {
        "id": "_Cmj-PVylMsa",
        "colab_type": "text"
      },
      "cell_type": "markdown",
      "source": [
        "Respuesta"
      ]
    },
    {
      "metadata": {
        "id": "Jkx8GeiYlUz1",
        "colab_type": "code",
        "outputId": "3608d425-b740-41ae-d0c8-8b84965b3e7b",
        "colab": {
          "base_uri": "https://localhost:8080/",
          "height": 3179
        }
      },
      "cell_type": "code",
      "source": [
        "\n",
        "# Aplicamos los algoritmos construidos al juego de datos generado\n",
        "print ('***********************************************************************************************')\n",
        "print ('INICIO Fuerza Bruta ***************************************************************************')\n",
        "print ('***********************************************************************************************')\n",
        "print (' ')\n",
        "Lanzadera_Algoritmo_Fuerza_Bruta() \n",
        "print (' ')\n",
        "print ('***********************************************************************************************')\n",
        "print ('FIN Fuerza Bruta ******************************************************************************')\n",
        "print ('***********************************************************************************************')\n",
        "print (' ')\n",
        "print (' ')\n",
        "print (' ')\n",
        "print ('***********************************************************************************************')\n",
        "print ('INICIO Técnica Voraz **************************************************************************')\n",
        "print ('***********************************************************************************************')\n",
        "print (' ')\n",
        "Lanzadera_Algoritmo_Tecnica_Voraz() \n",
        "print (' ')\n",
        "print ('***********************************************************************************************')\n",
        "print ('FIN Técnica Voraz *****************************************************************************')\n",
        "print ('***********************************************************************************************')\n",
        "print (' ')\n",
        "print (' ')\n",
        "print (' ')\n"
      ],
      "execution_count": 5,
      "outputs": [
        {
          "output_type": "stream",
          "text": [
            "***********************************************************************************************\n",
            "INICIO Fuerza Bruta ***************************************************************************\n",
            "***********************************************************************************************\n",
            " \n",
            "------------------ Chequeo Datos -------------------\n",
            "Dataframe: Datos originales generados\n",
            "Media: peso    37.011461\n",
            "Name: 0, dtype: float64\n",
            "Desviación: peso    2.081898\n",
            "dtype: float64\n",
            "Número individuos grupo: 1000\n",
            "----------------------------------------------------\n",
            "------------------ Chequeo Datos -------------------\n",
            "Dataframe: Datos Tratamiento 1 Machos Grupo 1\n",
            "Media: peso    38.696463\n",
            "Name: 0, dtype: float64\n",
            "Desviación: peso    0.142826\n",
            "dtype: float64\n",
            "Número individuos grupo: 12\n",
            "----------------------------------------------------\n",
            "------------------ Chequeo Datos -------------------\n",
            "Dataframe: Datos Tratamiento 2 Machos Grupo 1\n",
            "Media: peso    38.739216\n",
            "Name: 13, dtype: float64\n",
            "Desviación: peso    0.128064\n",
            "dtype: float64\n",
            "Número individuos grupo: 11\n",
            "----------------------------------------------------\n",
            "------------------ Chequeo Datos -------------------\n",
            "Dataframe: Datos Tratamiento 3 Machos Grupo 1\n",
            "Media: peso    38.674171\n",
            "Name: 25, dtype: float64\n",
            "Desviación: peso    0.131239\n",
            "dtype: float64\n",
            "Número individuos grupo: 12\n",
            "----------------------------------------------------\n",
            "------------------ Chequeo Datos -------------------\n",
            "Dataframe: Datos Tratamiento 1 Hembras Grupo 2\n",
            "Media: peso    37.018109\n",
            "Name: 0, dtype: float64\n",
            "Desviación: peso    0.140974\n",
            "dtype: float64\n",
            "Número individuos grupo: 12\n",
            "----------------------------------------------------\n",
            "------------------ Chequeo Datos -------------------\n",
            "Dataframe: Datos Tratamiento 2 Hembras Grupo 2\n",
            "Media: peso    37.11192\n",
            "Name: 12, dtype: float64\n",
            "Desviación: peso    0.177075\n",
            "dtype: float64\n",
            "Número individuos grupo: 12\n",
            "----------------------------------------------------\n",
            "------------------ Chequeo Datos -------------------\n",
            "Dataframe: Datos Tratamiento 3 Hembras Grupo 2\n",
            "Media: peso    37.096099\n",
            "Name: 24, dtype: float64\n",
            "Desviación: peso    0.128581\n",
            "dtype: float64\n",
            "Número individuos grupo: 12\n",
            "----------------------------------------------------\n",
            "------------------ Chequeo Datos -------------------\n",
            "Dataframe: Datos Tratamiento 1 Machos Grupo 3\n",
            "Media: peso    39.221691\n",
            "Name: 0, dtype: float64\n",
            "Desviación: peso    0.1926\n",
            "dtype: float64\n",
            "Número individuos grupo: 7\n",
            "----------------------------------------------------\n",
            "------------------ Chequeo Datos -------------------\n",
            "Dataframe: Datos Tratamiento 2 Machos Grupo 3\n",
            "Media: peso    39.258599\n",
            "Name: 8, dtype: float64\n",
            "Desviación: peso    0.115441\n",
            "dtype: float64\n",
            "Número individuos grupo: 6\n",
            "----------------------------------------------------\n",
            "------------------ Chequeo Datos -------------------\n",
            "Dataframe: Datos Tratamiento 3 Machos Grupo 3\n",
            "Media: peso    39.205077\n",
            "Name: 15, dtype: float64\n",
            "Desviación: peso    0.104833\n",
            "dtype: float64\n",
            "Número individuos grupo: 7\n",
            "----------------------------------------------------\n",
            "\n",
            "Tiempo de ejecución para algoritmo: 0.3216183185577392578125000\n",
            " \n",
            "***********************************************************************************************\n",
            "FIN Fuerza Bruta ******************************************************************************\n",
            "***********************************************************************************************\n",
            " \n",
            " \n",
            " \n",
            "***********************************************************************************************\n",
            "INICIO Técnica Voraz **************************************************************************\n",
            "***********************************************************************************************\n",
            " \n",
            "------------------ Chequeo Datos -------------------\n",
            "Dataframe: Datos originales generados\n",
            "Media: peso    37.011461\n",
            "Name: 0, dtype: float64\n",
            "Desviación: peso    2.081898\n",
            "dtype: float64\n",
            "Número individuos grupo: 1000\n",
            "----------------------------------------------------\n",
            "------------------ Chequeo Datos -------------------\n",
            "Dataframe: Datos Tratamiento 1 Machos Grupo 1\n",
            "Media: peso    38.696463\n",
            "Name: 0, dtype: float64\n",
            "Desviación: peso    0.142826\n",
            "dtype: float64\n",
            "Número individuos grupo: 12\n",
            "----------------------------------------------------\n",
            "------------------ Chequeo Datos -------------------\n",
            "Dataframe: Datos Tratamiento 2 Machos Grupo 1\n",
            "Media: peso    38.739216\n",
            "Name: 13, dtype: float64\n",
            "Desviación: peso    0.128064\n",
            "dtype: float64\n",
            "Número individuos grupo: 11\n",
            "----------------------------------------------------\n",
            "------------------ Chequeo Datos -------------------\n",
            "Dataframe: Datos Tratamiento 3 Machos Grupo 1\n",
            "Media: peso    38.674171\n",
            "Name: 25, dtype: float64\n",
            "Desviación: peso    0.131239\n",
            "dtype: float64\n",
            "Número individuos grupo: 12\n",
            "----------------------------------------------------\n",
            "------------------ Chequeo Datos -------------------\n",
            "Dataframe: Datos Tratamiento 1 Hembras Grupo 2\n",
            "Media: peso    37.018109\n",
            "Name: 0, dtype: float64\n",
            "Desviación: peso    0.140974\n",
            "dtype: float64\n",
            "Número individuos grupo: 12\n",
            "----------------------------------------------------\n",
            "------------------ Chequeo Datos -------------------\n",
            "Dataframe: Datos Tratamiento 2 Hembras Grupo 2\n",
            "Media: peso    37.11192\n",
            "Name: 12, dtype: float64\n",
            "Desviación: peso    0.177075\n",
            "dtype: float64\n",
            "Número individuos grupo: 12\n",
            "----------------------------------------------------\n",
            "------------------ Chequeo Datos -------------------\n",
            "Dataframe: Datos Tratamiento 3 Hembras Grupo 2\n",
            "Media: peso    37.096099\n",
            "Name: 24, dtype: float64\n",
            "Desviación: peso    0.128581\n",
            "dtype: float64\n",
            "Número individuos grupo: 12\n",
            "----------------------------------------------------\n",
            "------------------ Chequeo Datos -------------------\n",
            "Dataframe: Datos Tratamiento 1 Machos Grupo 3\n",
            "Media: peso    39.221691\n",
            "Name: 0, dtype: float64\n",
            "Desviación: peso    0.1926\n",
            "dtype: float64\n",
            "Número individuos grupo: 7\n",
            "----------------------------------------------------\n",
            "------------------ Chequeo Datos -------------------\n",
            "Dataframe: Datos Tratamiento 2 Machos Grupo 3\n",
            "Media: peso    39.258599\n",
            "Name: 8, dtype: float64\n",
            "Desviación: peso    0.115441\n",
            "dtype: float64\n",
            "Número individuos grupo: 6\n",
            "----------------------------------------------------\n",
            "------------------ Chequeo Datos -------------------\n",
            "Dataframe: Datos Tratamiento 3 Machos Grupo 3\n",
            "Media: peso    39.205077\n",
            "Name: 15, dtype: float64\n",
            "Desviación: peso    0.104833\n",
            "dtype: float64\n",
            "Número individuos grupo: 7\n",
            "----------------------------------------------------\n",
            "\n",
            "Tiempo de ejecución para algoritmo: 0.3112349510192871093750000\n",
            " \n",
            "***********************************************************************************************\n",
            "FIN Técnica Voraz *****************************************************************************\n",
            "***********************************************************************************************\n",
            " \n",
            " \n",
            " \n"
          ],
          "name": "stdout"
        }
      ]
    },
    {
      "metadata": {
        "id": "yPkz2baEJmmC",
        "colab_type": "code",
        "colab": {}
      },
      "cell_type": "code",
      "source": [
        ""
      ],
      "execution_count": 0,
      "outputs": []
    },
    {
      "metadata": {
        "colab_type": "text",
        "id": "eTFWUJQrtGcv"
      },
      "cell_type": "markdown",
      "source": [
        "Enumera las referencias que has utilizado(si ha sido necesario) para llevar a cabo el trabajo\n",
        "\n",
        "- Documentación aportada en el curso\n",
        "- Documentación de Python\n",
        "- Wikipedia\n"
      ]
    },
    {
      "metadata": {
        "id": "YKQ_mRBttWsP",
        "colab_type": "text"
      },
      "cell_type": "markdown",
      "source": [
        "Respuesta"
      ]
    },
    {
      "metadata": {
        "id": "kAkDPUyRtYyH",
        "colab_type": "text"
      },
      "cell_type": "markdown",
      "source": [
        "Describe brevemente las lineas de como crees que es posible avanzar en el estudio del problema. Ten en cuenta incluso posibles variaciones del problema y/o variaciones al alza del tamaño"
      ]
    },
    {
      "metadata": {
        "id": "IE0uZmo-tZu-",
        "colab_type": "text"
      },
      "cell_type": "markdown",
      "source": [
        "Respuesta\n",
        "\n",
        "Si nos fueramos a tamaños de población muy elevados en los que los tiempos de respuesta de este algoritmo fueran inviables entonces rediseñaria el algoritmo y usaría  algortimos heurísticos o genéticos siempre que no fuera necesario clasificar a toda la población.\n",
        "\n",
        "Otra posibilidad también sería aplicar técnica voraz pero limitando el número de individuos a obtener en cada grupo, de tal forma, que si supieramos que los grupos por ejemplo con 1.000 individuos ya son suficientes para el estudio, en el momento que alcanzaramos ese tamaño de grupo pondría algún punto de control para que el algoritmo parara."
      ]
    }
  ]
}