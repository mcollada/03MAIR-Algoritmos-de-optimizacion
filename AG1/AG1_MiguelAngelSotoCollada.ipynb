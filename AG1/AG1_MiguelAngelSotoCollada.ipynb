{
  "nbformat": 4,
  "nbformat_minor": 0,
  "metadata": {
    "colab": {
      "name": "AG1_MiguelAngelSotoCollada.ipynb",
      "version": "0.3.2",
      "provenance": [],
      "collapsed_sections": [],
      "include_colab_link": true
    },
    "kernelspec": {
      "name": "python3",
      "display_name": "Python 3"
    }
  },
  "cells": [
    {
      "cell_type": "markdown",
      "metadata": {
        "id": "view-in-github",
        "colab_type": "text"
      },
      "source": [
        "<a href=\"https://colab.research.google.com/github/mcollada/03MAIR-Algoritmos-de-optimizacion/blob/master/AG1/AG1_MiguelAngelSotoCollada.ipynb\" target=\"_parent\"><img src=\"https://colab.research.google.com/assets/colab-badge.svg\" alt=\"Open In Colab\"/></a>"
      ]
    },
    {
      "metadata": {
        "id": "BXovXKHCEDqe",
        "colab_type": "text"
      },
      "cell_type": "markdown",
      "source": [
        "AG1 - Actividad Guiada 1\n",
        "Miguel Angel Soto Collada<br>\n",
        "\n",
        "https://github.com/mcollada/03MAIR-Algoritmos-de-optimizacion/tree/master/AG1"
      ]
    },
    {
      "metadata": {
        "id": "5wu0VVy7F2Wc",
        "colab_type": "code",
        "outputId": "ac55dfd7-e3ae-47e8-84f2-987692f4a6ed",
        "colab": {
          "base_uri": "https://localhost:8080/",
          "height": 54
        }
      },
      "cell_type": "code",
      "source": [
        "#quick_sort \n",
        "  \n",
        "A= [9187,244,4054,9222,8373,4993,5265,5470,4519,7182,2035,3506,4337,7500,2554,2824,8357,4447,7379]\n",
        "\n",
        "def quick_sort (A):\n",
        "    if len(A)==1:\n",
        "      return A\n",
        "    if len(A)==2:\n",
        "      return [min(A), max(A)]\n",
        "    \n",
        "    IZQ=[]\n",
        "    DER=[]\n",
        "    \n",
        "    pivote=(A[0]+A[1]+A[2])/3   \n",
        "    \n",
        "    for i in A:\n",
        "      if i<pivote :\n",
        "        IZQ.append(i)\n",
        "      else:\n",
        "        DER.append(i)  \n",
        "      \n",
        "    return quick_sort (IZQ) + quick_sort (DER)\n",
        "  \n",
        "print (\"Quick_Sort: Ordenar de menor a mayor\")  \n",
        "print(quick_sort (A))"
      ],
      "execution_count": 0,
      "outputs": [
        {
          "output_type": "stream",
          "text": [
            "Quick_Sort: Ordenar de menor a mayor\n",
            "[244, 2035, 2554, 2824, 3506, 4054, 4337, 4447, 4519, 4993, 5265, 5470, 7182, 7379, 7500, 8357, 8373, 9187, 9222]\n"
          ],
          "name": "stdout"
        }
      ]
    },
    {
      "metadata": {
        "id": "BmUtjmOJP88S",
        "colab_type": "code",
        "outputId": "e1cbcb5e-3d40-4dc4-d5cd-115df6b5e5b1",
        "colab": {
          "base_uri": "https://localhost:8080/",
          "height": 35
        }
      },
      "cell_type": "code",
      "source": [
        "#Algoritmo Voraz - Cambio de Moneda\n",
        "\n",
        "def ObtenerCambio (cantidad) :\n",
        "  sistema = [25, 10, 5, 1] \n",
        "  solucion=[0 for i in range (len(sistema))]\n",
        "\n",
        "  valor_acumulado=0\n",
        "\n",
        "  for i in range(len(sistema)) :\n",
        "    monedas=int((cantidad - valor_acumulado)/sistema[i])\n",
        "    solucion[i]=monedas\n",
        "\n",
        "    valor_acumulado += monedas*sistema[i]\n",
        "    \n",
        "    if cantidad==valor_acumulado:\n",
        "      return solucion\n",
        "\n",
        "ObtenerCambio (77)"
      ],
      "execution_count": 0,
      "outputs": [
        {
          "output_type": "execute_result",
          "data": {
            "text/plain": [
              "[3, 0, 0, 2]"
            ]
          },
          "metadata": {
            "tags": []
          },
          "execution_count": 100
        }
      ]
    },
    {
      "metadata": {
        "id": "2rholubzaiRd",
        "colab_type": "code",
        "outputId": "ef564f7c-de9e-46ad-a6ba-439def76a61b",
        "colab": {
          "base_uri": "https://localhost:8080/",
          "height": 363
        }
      },
      "cell_type": "code",
      "source": [
        "#Algoritmo de vuelta atrás\n",
        "#Problema a resolver Reinas ajedrez\n",
        "n=4 \n",
        "solucion=[0 for i in range(n)]\n",
        "etapa=0\n",
        "\n",
        "def es_prometedora(solucion,etapa):\n",
        "  for i in range(etapa+1):  \n",
        "    if solucion.count(solucion[i])>1: return False\n",
        "    \n",
        "    #verificar diagonales\n",
        "    for j in range(i+1,etapa+1):\n",
        "      if abs(i-j)==abs(solucion[i]-solucion[j]): return False\n",
        "  return True\n",
        "\n",
        "\n",
        "def escribe(s):\n",
        "  print('llega')\n",
        "  n=len(s)\n",
        "  for x in range(n):\n",
        "    print(\"\")\n",
        "    for i in range(n):\n",
        "      if solucion[i]==x+1:\n",
        "        print(\" X \", end=\"\")\n",
        "      else:\n",
        "        print(\" - \", end=\"\")\n",
        "\n",
        "        \n",
        "  \n",
        "def reinas(n,solucion,etapa):\n",
        "  for i in range(1,n+1):\n",
        "    solucion[etapa]=i\n",
        "\n",
        "    if es_prometedora(solucion,etapa):\n",
        "      if etapa == n-1:\n",
        "        print(\"\\n\\nLa solución es:\")\n",
        "        print(solucion)\n",
        "        escribe(solucion)\n",
        "      else:\n",
        "        #print(\"Es prometedora\\n##########################\")\n",
        "        reinas(n,solucion,etapa+1)\n",
        "    else:\n",
        "      #print(\"No prometedora\\n##########################\")\n",
        "      None\n",
        "  \n",
        "  solucion[etapa]=0\n",
        "\n",
        "reinas(n,solucion,etapa)\n",
        "  "
      ],
      "execution_count": 0,
      "outputs": [
        {
          "output_type": "stream",
          "text": [
            "\n",
            "\n",
            "La solución es:\n",
            "[2, 4, 1, 3]\n",
            "llega\n",
            "\n",
            " -  -  X  - \n",
            " X  -  -  - \n",
            " -  -  -  X \n",
            " -  X  -  - \n",
            "\n",
            "La solución es:\n",
            "[3, 1, 4, 2]\n",
            "llega\n",
            "\n",
            " -  X  -  - \n",
            " -  -  -  X \n",
            " X  -  -  - \n",
            " -  -  X  - "
          ],
          "name": "stdout"
        }
      ]
    },
    {
      "metadata": {
        "id": "3ilDOlqwEBJm",
        "colab_type": "text"
      },
      "cell_type": "markdown",
      "source": [
        "**Otros Algoritmos basados en las técnicas estudiadas:**"
      ]
    },
    {
      "metadata": {
        "id": "TxODhLPKejIQ",
        "colab_type": "code",
        "outputId": "0680c0e6-4186-4199-e7e5-862a14b4d521",
        "colab": {
          "base_uri": "https://localhost:8080/",
          "height": 187
        }
      },
      "cell_type": "code",
      "source": [
        "#Ejemplo de Algoritmo Voraz - para acceso a un local\n",
        "maximoAforoPermitido=5\n",
        "def aforoCompleto (clienteNumero) :\n",
        "    numeroDeAsientosLibres= maximoAforoPermitido - clienteNumero\n",
        "    if numeroDeAsientosLibres<0:\n",
        "      return print(\"Aforo Completo para cliente número: \"+ str(i))\n",
        "    else:\n",
        "      return print(\"Acceso Permitido para cliente número: \" + str(i))\n",
        "\n",
        "\n",
        "#Intentan acceder al local 10 clientes y el aforo máximo permitido son 5 clientes\n",
        "for i in range(1,11):\n",
        "  aforoCompleto (i)\n"
      ],
      "execution_count": 0,
      "outputs": [
        {
          "output_type": "stream",
          "text": [
            "Acceso Permitido para cliente número: 1\n",
            "Acceso Permitido para cliente número: 2\n",
            "Acceso Permitido para cliente número: 3\n",
            "Acceso Permitido para cliente número: 4\n",
            "Acceso Permitido para cliente número: 5\n",
            "Aforo Completo para cliente número: 6\n",
            "Aforo Completo para cliente número: 7\n",
            "Aforo Completo para cliente número: 8\n",
            "Aforo Completo para cliente número: 9\n",
            "Aforo Completo para cliente número: 10\n"
          ],
          "name": "stdout"
        }
      ]
    }
  ]
}