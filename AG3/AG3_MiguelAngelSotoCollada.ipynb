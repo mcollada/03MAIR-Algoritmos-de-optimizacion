{
  "nbformat": 4,
  "nbformat_minor": 0,
  "metadata": {
    "colab": {
      "name": "AG3_MiguelAngelSotoCollada.ipynb",
      "version": "0.3.2",
      "provenance": [],
      "collapsed_sections": [],
      "include_colab_link": true
    },
    "kernelspec": {
      "name": "python3",
      "display_name": "Python 3"
    }
  },
  "cells": [
    {
      "cell_type": "markdown",
      "metadata": {
        "id": "view-in-github",
        "colab_type": "text"
      },
      "source": [
        "<a href=\"https://colab.research.google.com/github/mcollada/03MAIR-Algoritmos-de-optimizacion/blob/master/AG3/AG3_MiguelAngelSotoCollada.ipynb\" target=\"_parent\"><img src=\"https://colab.research.google.com/assets/colab-badge.svg\" alt=\"Open In Colab\"/></a>"
      ]
    },
    {
      "metadata": {
        "id": "7jMY3-WidUTd",
        "colab_type": "text"
      },
      "cell_type": "markdown",
      "source": [
        "AG3 - Actividad Guiada 3\n",
        "Miguel Angel Soto Collada<br>\n",
        "\n",
        "https://github.com/mcollada/03MAIR-Algoritmos-de-optimizacion/tree/master/AG3"
      ]
    },
    {
      "metadata": {
        "id": "ZnGqY4hAdUa3",
        "colab_type": "text"
      },
      "cell_type": "markdown",
      "source": [
        ""
      ]
    }
  ]
}