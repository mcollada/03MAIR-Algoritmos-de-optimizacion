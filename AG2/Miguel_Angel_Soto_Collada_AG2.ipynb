{
 "cells": [
  {
   "cell_type": "markdown",
   "metadata": {},
   "source": [
    "AG2 - Actividad Guiada 2 Miguel Angel Soto Collada\n",
    "\n",
    "https://github.com/mcollada/03MAIR-Algoritmos-de-optimizacion/blob/master/AG2/Miguel_Angel_Soto_Collada_AG2.ipynb"
   ]
  },
  {
   "cell_type": "code",
   "execution_count": 1,
   "metadata": {},
   "outputs": [],
   "source": [
    "import pdb\n",
    "import random\n",
    "import math\n",
    "from time import time\n",
    "\n",
    "N=3000\n",
    "Lista_2D=[ (random.randrange(1,N*10),random.randrange(1,N*10)) for _ in range(N)]\n"
   ]
  },
  {
   "cell_type": "code",
   "execution_count": 2,
   "metadata": {},
   "outputs": [
    {
     "data": {
      "text/plain": [
       "2.23606797749979"
      ]
     },
     "execution_count": 2,
     "metadata": {},
     "output_type": "execute_result"
    }
   ],
   "source": [
    "\n",
    "#Función para calcular el tiempo de ejecución\n",
    "def calcular_tiempo(f):\n",
    "    def wrapper(*args,**kwargs):\n",
    "        inicio = time()       \n",
    "        resultado = f(*args,**kwargs)       \n",
    "        tiempo = time() - inicio\n",
    "        print(\"\\r\\nTiempo de ejecución para algoritmo: \"+\"{0:.25f}\".format(tiempo))\n",
    "        return resultado\n",
    "    return wrapper\n",
    "\n",
    "\n",
    "def distancia(A,B):\n",
    "    if type(A) is int or type(A) is float:\n",
    "        return abs(B-A)\n",
    "    else:\n",
    "        # distancia euclidea\n",
    "        return math.sqrt(sum([(A[i]-B[i])**2 for i in range(len(A))]))\n",
    "\n",
    "distancia((1,3),(2,5))\n"
   ]
  },
  {
   "cell_type": "code",
   "execution_count": 3,
   "metadata": {},
   "outputs": [
    {
     "data": {
      "text/plain": [
       "[(21591, 9918), (21598, 9912)]"
      ]
     },
     "execution_count": 3,
     "metadata": {},
     "output_type": "execute_result"
    }
   ],
   "source": [
    "#Fuerza_Bruta\n",
    "def Distancia_Fuerza_Bruta(L):\n",
    "    # Inicializamos el valor con un valor muy alto\n",
    "    mejor_distancia=10000e10\n",
    "    \n",
    "    A,B=(),()\n",
    "    for i in range (len(L)):\n",
    "        for j in range (i+1,len(L)):\n",
    "            d = distancia(L[i],L[j])\n",
    "            if  d < mejor_distancia:\n",
    "                A,B=L[i],L[j]\n",
    "                mejor_distancia = d\n",
    "    return [A,B]\n",
    "\n",
    "Distancia_Fuerza_Bruta(Lista_2D)"
   ]
  },
  {
   "cell_type": "code",
   "execution_count": 4,
   "metadata": {},
   "outputs": [
    {
     "name": "stdout",
     "output_type": "stream",
     "text": [
      "\r\n",
      "Tiempo de ejecución para algoritmo: 0.0438804626464843750000000\n",
      "[(2, 7408), (2, 7408)]\n",
      "\r\n",
      "Tiempo de ejecución para algoritmo: 0.0329108238220214843750000\n",
      "[(2, 7408), (2, 7408)]\n"
     ]
    }
   ],
   "source": [
    "#Divide y venceras\n",
    "def Distancia_Divide_Y_Venceras(L):\n",
    "    # Si hay pocos elementos usamos fuerza bruta\n",
    "    if len(L)<10:\n",
    "        return  Distancia_Fuerza_Bruta(L)\n",
    "    \n",
    "    LISTA_IZQ=sorted(L,key=lambda x: x[0])[:len(L)//2]\n",
    "    LISTA_DER=sorted(L,key=lambda x: x[0])[:len(L)//2:]\n",
    "    \n",
    "    PUNTOS_LISTA_IZQ = Distancia_Divide_Y_Venceras(LISTA_IZQ)\n",
    "    PUNTOS_LISTA_DER = Distancia_Divide_Y_Venceras(LISTA_DER)\n",
    "\n",
    "    # Mejora ordenar solo una vez la lista\n",
    "    # ver que puntos estan tan cerca del limite como el mínimo de las \n",
    "    # distancias de los pares de puntos elegidos por separados en cada uno de las listas\n",
    "    return Distancia_Fuerza_Bruta(PUNTOS_LISTA_IZQ + PUNTOS_LISTA_DER)\n",
    "\n",
    "\n",
    "###################################################################################\n",
    "# Mejoras: \n",
    "###################################################################################\n",
    "def Distancia_Divide_Y_Venceras_Solo_Ordena_Una_Vez(L,bListaOrdenada):\n",
    "    # Si hay pocos elementos usamos fuerza bruta\n",
    "    if len(L)<10:\n",
    "        return  Distancia_Fuerza_Bruta(L)\n",
    "    \n",
    "    if (not bListaOrdenada):\n",
    "        L=sorted(L,key=lambda x: x[0])\n",
    "        bListaOrdenada=True\n",
    "    \n",
    "    LISTA_IZQ=L[:len(L)//2]\n",
    "    LISTA_DER=L[:len(L)//2:]\n",
    "    \n",
    "    PUNTOS_LISTA_IZQ = Distancia_Divide_Y_Venceras_Solo_Ordena_Una_Vez(LISTA_IZQ, bListaOrdenada)\n",
    "    PUNTOS_LISTA_DER = Distancia_Divide_Y_Venceras_Solo_Ordena_Una_Vez(LISTA_DER, bListaOrdenada)\n",
    "\n",
    "    # Mejora ordenar solo una vez la lista\n",
    "    # ver que puntos estan tan cerca del limite como el mínimo de las \n",
    "    # distancias de los pares de puntos elegidos por separados en cada uno de las listas\n",
    "    return Distancia_Fuerza_Bruta(PUNTOS_LISTA_IZQ + PUNTOS_LISTA_DER)\n",
    "\n",
    "@calcular_tiempo  \n",
    "def LANZA(L):\n",
    "    L=sorted(L,key=lambda x: x[0])\n",
    "    return Distancia_Divide_Y_Venceras(L)\n",
    "@calcular_tiempo  \n",
    "def LANZA_MEJORA(L):\n",
    "    L=sorted(L,key=lambda x: x[0])\n",
    "    return Distancia_Divide_Y_Venceras_Solo_Ordena_Una_Vez(L,False)\n",
    "\n",
    "SOL = LANZA(Lista_2D)\n",
    "print(SOL)\n",
    "\n",
    "SOL_MEJORADA = LANZA_MEJORA(Lista_2D)\n",
    "print(SOL_MEJORADA)"
   ]
  },
  {
   "cell_type": "code",
   "execution_count": 5,
   "metadata": {},
   "outputs": [
    {
     "name": "stdout",
     "output_type": "stream",
     "text": [
      "[[9999, 5, 4, 3, 8, 8, 11], [9999, 9999, 999, 2, 3, 8, 7], [9999, 9999, 9999, 1, 6, 4, 7], [9999, 9999, 9999, 9999, 5, 6, 9], [9999, 9999, 9999, 9999, 9999, 999, 4], [9999, 9999, 9999, 9999, 9999, 9999, 3], [9999, 9999, 9999, 9999, 9999, 9999, 9999]]\n",
      "\n",
      "[['', 0, 0, 0, 1, 2, 5], ['', '', 1, 1, 1, 3, 4], ['', '', '', 2, 3, 2, 5], ['', '', '', '', 3, 3, 3], ['', '', '', '', '', 4, 4], ['', '', '', '', '', '', 5], ['', '', '', '', '', '', '']]\n",
      "\n",
      "La ruta es:\n",
      "0,0,2,5\n"
     ]
    }
   ],
   "source": [
    "# Paseo_Por_El_Rio (Ejemplo para empresas de distribución)\n",
    "\n",
    "TARIFAS = [\n",
    "[0,5,4,3,999,999,999],\n",
    "[999,0,999,2,3,999,11],\n",
    "[999,999, 0,1,999,4,10],\n",
    "[999,999,999, 0,5,6,9],\n",
    "[999,999, 999,999,0,999,4],\n",
    "[999,999, 999,999,999,0,3],\n",
    "[999,999,999,999,999,999,0]\n",
    "]\n",
    "\n",
    "\n",
    "def Precios(TARIFAS):\n",
    "    N=len(TARIFAS[0])\n",
    "    \n",
    "    PRECIOS=[ [9999]*N for i in [9999]*N ]\n",
    "    RUTAS=[ [\"\"]*N for i in [9999]*N ]\n",
    "\n",
    "    for i in  range(N-1):\n",
    "        for j in range(i+1, N):\n",
    "            MIN = TARIFAS[i][j]\n",
    "            RUTAS[i][j]=i\n",
    "            \n",
    "            for k in range(i,j):\n",
    "                if PRECIOS[i][k] + TARIFAS [k][j] < MIN:\n",
    "                    MIN = min( MIN , PRECIOS[i][k] + TARIFAS[k][j]) \n",
    "                    RUTAS[i][j]=k\n",
    "            PRECIOS[i][j]=MIN\n",
    "    return PRECIOS, RUTAS\n",
    "\n",
    "def calcular_ruta(RUTA, desde, hasta):\n",
    "    if desde == hasta:\n",
    "        return desde \n",
    "    else:\n",
    "        return str(calcular_ruta(RUTA, desde, RUTA[desde][hasta])) +  ',' + str(RUTA[desde][hasta])\n",
    "\n",
    "\n",
    "\n",
    "    \n",
    "PRECIOS, RUTAS=Precios(TARIFAS)\n",
    "print(PRECIOS)\n",
    "print()\n",
    "print(RUTAS)\n",
    "\n",
    "print(\"\\nLa ruta es:\")  \n",
    "print(calcular_ruta(RUTAS, 0,6))\n",
    "\n"
   ]
  },
  {
   "cell_type": "code",
   "execution_count": 6,
   "metadata": {},
   "outputs": [
    {
     "name": "stdout",
     "output_type": "stream",
     "text": [
      "\n",
      "El precio de la ruta es:\n",
      "11\n",
      "\n"
     ]
    }
   ],
   "source": [
    "###################################################################################\n",
    "# Mejora: \n",
    "###################################################################################\n",
    "# Aporto como mejora función que retorna el precio de la ruta\n",
    "def Obtener_Precio(PRECIOS, desde, hasta):\n",
    "    return PRECIOS[desde][hasta]\n",
    "\n",
    "print(\"\\nEl precio de la ruta es:\")  \n",
    "print(str(Obtener_Precio(PRECIOS, 0,6)))\n",
    "print()\n"
   ]
  },
  {
   "cell_type": "code",
   "execution_count": 7,
   "metadata": {},
   "outputs": [
    {
     "name": "stdout",
     "output_type": "stream",
     "text": [
      "Matriz de coste de ir de un punto a otro:\n",
      "\n",
      "      0     1     2     3     4     5     6\n",
      "0  9999     5     4     3     8     8    11\n",
      "1  9999  9999   999     2     3     8     7\n",
      "2  9999  9999  9999     1     6     4     7\n",
      "3  9999  9999  9999  9999     5     6     9\n",
      "4  9999  9999  9999  9999  9999   999     4\n",
      "5  9999  9999  9999  9999  9999  9999     3\n",
      "6  9999  9999  9999  9999  9999  9999  9999\n",
      "\n",
      "Matriz de rutas posibles desde un punto:\n",
      "\n",
      "  0  1  2  3  4  5  6\n",
      "0    0  0  0  1  2  5\n",
      "1       1  1  1  3  4\n",
      "2          2  3  2  5\n",
      "3             3  3  3\n",
      "4                4  4\n",
      "5                   5\n",
      "6                    \n"
     ]
    }
   ],
   "source": [
    "###################################################################################\n",
    "# Mejora: \n",
    "###################################################################################\n",
    "# Aporto como mejora función que visualiza una Lista en formato matriz\n",
    "import pandas as pd\n",
    "def Visualizar_Matriz_Lista(titulo,LISTA):\n",
    "    # Asignar nombre a columnas desde 0 hasta la longitud de la lista\n",
    "    columnas=\"\"\n",
    "    for i in range(len(LISTA)):\n",
    "        columnas=columnas+str(i)\n",
    "    \n",
    "    # Convierto la Lista pasada como parametro en un pandas dataframe\n",
    "    df_LISTA=pd.DataFrame(LISTA,columns=list(columnas))\n",
    "    \n",
    "    # Visualizar el Pandas DataFrame \n",
    "    print(titulo)\n",
    "    print ()\n",
    "    print(df_LISTA)\n",
    "\n",
    "Visualizar_Matriz_Lista ('Matriz de coste de ir de un punto a otro:',PRECIOS)\n",
    "print ()\n",
    "Visualizar_Matriz_Lista ('Matriz de rutas posibles desde un punto:',RUTAS)\n"
   ]
  }
 ],
 "metadata": {
  "kernelspec": {
   "display_name": "Python 3",
   "language": "python",
   "name": "python3"
  },
  "language_info": {
   "codemirror_mode": {
    "name": "ipython",
    "version": 3
   },
   "file_extension": ".py",
   "mimetype": "text/x-python",
   "name": "python",
   "nbconvert_exporter": "python",
   "pygments_lexer": "ipython3",
   "version": "3.7.1"
  }
 },
 "nbformat": 4,
 "nbformat_minor": 2
}
